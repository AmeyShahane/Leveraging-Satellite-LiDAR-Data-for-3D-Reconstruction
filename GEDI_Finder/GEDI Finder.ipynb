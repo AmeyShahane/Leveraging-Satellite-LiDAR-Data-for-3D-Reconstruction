{
 "cells": [
  {
   "cell_type": "code",
   "execution_count": 1,
   "id": "414e9ea9",
   "metadata": {},
   "outputs": [],
   "source": [
    "import requests as r\n",
    "from datetime import datetime\n",
    "import os"
   ]
  },
  {
   "cell_type": "markdown",
   "id": "117d5ba2",
   "metadata": {},
   "source": [
    "###### Functoin to call earthdata API to get the data"
   ]
  },
  {
   "cell_type": "code",
   "execution_count": 2,
   "id": "984a0be9",
   "metadata": {},
   "outputs": [],
   "source": [
    "# \"product\" : products required from GEDI data ('GEDI01_B.002', 'GEDI02_A.002' and 'GEDI02_B.002')\n",
    "# \"bbox\" :  bbox is a string of bounding box coordinate values in decimal degrees. \n",
    "            #(Lower Left Longitude, Lower Left Latitude, Upper Right Longitude, Upper Right Latitude)\n",
    "    \n",
    "\n",
    "def gedi_finder(product, bbox):\n",
    "\n",
    "    # Define the base CMR granule search url, including LPDAAC provider name and max page size (2000 is the max allowed)\n",
    "    cmr = \"https://cmr.earthdata.nasa.gov/search/granules.json?pretty=true&provider=LPDAAC_ECS&page_size=2000&concept_id=\"\n",
    "\n",
    "    # Set up dictionary where key is GEDI shortname + version\n",
    "    # A dictionary is set up to relate each product \"shortname.version\" to its associated \"concept_id\",\n",
    "    # which is a value used by NASA's CMR to retrieve data for a specific product. \n",
    "    concept_ids = {'GEDI01_B.002': 'C1908344278-LPDAAC_ECS', \n",
    "                   'GEDI02_A.002': 'C1908348134-LPDAAC_ECS', \n",
    "                   'GEDI02_B.002': 'C1908350066-LPDAAC_ECS'}\n",
    "\n",
    "    # CMR uses pagination for queries with more features returned than the page size\n",
    "    page = 1\n",
    "    bbox = bbox.replace(' ', '')  # remove any white spaces\n",
    "    try:\n",
    "        # Send GET request to CMR granule search endpoint w/ product concept ID, bbox & page number, format return as json\n",
    "        cmr_response = r.get(f\"{cmr}{concept_ids[product]}&bounding_box={bbox}&pageNum={page}\").json()['feed']['entry']\n",
    "\n",
    "        # If 2000 features are returned, move to the next page and submit another request, and append to the response\n",
    "        while len(cmr_response) % 2000 == 0:\n",
    "            page += 1\n",
    "            cmr_response += r.get(f\"{cmr}{concept_ids[product]}&bounding_box={bbox}&pageNum={page}\").json()['feed']['entry']\n",
    "\n",
    "        # CMR returns more info than just the Data Pool links, below use list comprehension to return a list of DP links\n",
    "        return [c['links'][0]['href'] for c in cmr_response]\n",
    "    except:\n",
    "        # If the request did not complete successfully, print out the response from CMR\n",
    "        print(r.get(f\"{cmr}{concept_ids[product]}&bounding_box={bbox.replace(' ', '')}&pageNum={page}\").json())"
   ]
  },
  {
   "cell_type": "markdown",
   "id": "c992dbec",
   "metadata": {},
   "source": [
    "###### Call the function with coordinates (Longitude-Lattitude) for AOI"
   ]
  },
  {
   "cell_type": "code",
   "execution_count": 3,
   "id": "e5089a4d",
   "metadata": {},
   "outputs": [],
   "source": [
    "# User-provided inputs (UPDATE FOR YOUR DESIRED PRODUCT AND BOUNDING BOX REGION OF INTEREST)\n",
    "product = 'GEDI01_B.002'           # Options include 'GEDI01_B.002', 'GEDI02_A.002', 'GEDI02_B.002'\n",
    "bbox = '-77.6886,43.0791,-77.6634,43.0897'  # bounding box coordinates in LL Longitude, LL Latitude, UR Longitude, UR Latitude format"
   ]
  },
  {
   "cell_type": "code",
   "execution_count": 4,
   "id": "7f8b2a58",
   "metadata": {},
   "outputs": [
    {
     "name": "stdout",
     "output_type": "stream",
     "text": [
      "Total 21 GEDI01_B.002 Version 2 granules found.\n"
     ]
    }
   ],
   "source": [
    "granules = gedi_finder(product, bbox)\n",
    "print(f\"Total {len(granules)} {product} Version 2 granules found.\")"
   ]
  },
  {
   "cell_type": "markdown",
   "id": "6dd7deb6",
   "metadata": {},
   "source": [
    "###### Export Data"
   ]
  },
  {
   "cell_type": "code",
   "execution_count": 10,
   "id": "017d694b",
   "metadata": {},
   "outputs": [
    {
     "name": "stdout",
     "output_type": "stream",
     "text": [
      "File containing links to intersecting GEDI01_B.002 Version 2 data has been saved to:\n",
      " D:\\Study\\Spring_23\\CSCI_788\\Leveraging-Satellite-LiDAR-Data-for-3D-Reconstruction\\GEDI_Finder\\GEDI01_B_002_GranuleList_20230305033303.txt\n"
     ]
    }
   ],
   "source": [
    "# Set up output text file name using the current datetime\n",
    "outName =f\"{product.replace('.', '_')}_GranuleList_{datetime.now().strftime('%Y%m%d%H%M%S')}.txt\"\n",
    "\n",
    "# Open file and write each granule link on a new line\n",
    "with open(outName, \"w\") as gf:\n",
    "    for g in granules:\n",
    "        gf.write(f\"{g}\\n\")\n",
    "print(f\"File containing links to intersecting {product} Version 2 data has been saved to:\\n {os.getcwd()}\\{outName}\")"
   ]
  },
  {
   "cell_type": "code",
   "execution_count": null,
   "id": "787ff2c9",
   "metadata": {},
   "outputs": [],
   "source": []
  }
 ],
 "metadata": {
  "kernelspec": {
   "display_name": "Python 3 (ipykernel)",
   "language": "python",
   "name": "python3"
  },
  "language_info": {
   "codemirror_mode": {
    "name": "ipython",
    "version": 3
   },
   "file_extension": ".py",
   "mimetype": "text/x-python",
   "name": "python",
   "nbconvert_exporter": "python",
   "pygments_lexer": "ipython3",
   "version": "3.7.12"
  }
 },
 "nbformat": 4,
 "nbformat_minor": 5
}
